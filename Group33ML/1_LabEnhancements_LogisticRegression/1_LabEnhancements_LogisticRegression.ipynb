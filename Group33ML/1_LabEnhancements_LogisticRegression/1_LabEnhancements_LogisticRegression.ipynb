{
 "cells": [
  {
   "cell_type": "markdown",
   "id": "4ad2c8be",
   "metadata": {},
   "source": [
    "# **Enhanced Logistic Regression Lab**"
   ]
  },
  {
   "cell_type": "markdown",
   "id": "b07de29b",
   "metadata": {},
   "source": [
    "## **Objective**\n",
    "This notebook enhances the original Logistic Regression lab by:\n",
    "- Clarifying key concepts and underlying mathematical principles.\n",
    "- Exploring advanced concepts such as regularization, decision boundaries, and performance metrics.\n",
    "- Providing visualizations to improve understanding.\n",
    "- Applying the concepts to a real-world dataset: **Pima Indians Diabetes dataset**.\n",
    "- Comparing Logistic Regression with other classification models like Decision Trees and Random Forests.\n",
    "- Discussing the advantages and disadvantages of different models.\n",
    "\n",
    "Let's begin by loading the dataset."
   ]
  },
  {
   "cell_type": "markdown",
   "id": "8972f076",
   "metadata": {},
   "source": [
    "## **Loading the Dataset**"
   ]
  },
  {
   "cell_type": "code",
   "execution_count": 3,
   "id": "fb12642f",
   "metadata": {},
   "outputs": [
    {
     "data": {
      "text/html": [
       "<div>\n",
       "<style scoped>\n",
       "    .dataframe tbody tr th:only-of-type {\n",
       "        vertical-align: middle;\n",
       "    }\n",
       "\n",
       "    .dataframe tbody tr th {\n",
       "        vertical-align: top;\n",
       "    }\n",
       "\n",
       "    .dataframe thead th {\n",
       "        text-align: right;\n",
       "    }\n",
       "</style>\n",
       "<table border=\"1\" class=\"dataframe\">\n",
       "  <thead>\n",
       "    <tr style=\"text-align: right;\">\n",
       "      <th></th>\n",
       "      <th>Pregnancies</th>\n",
       "      <th>Glucose</th>\n",
       "      <th>BloodPressure</th>\n",
       "      <th>SkinThickness</th>\n",
       "      <th>Insulin</th>\n",
       "      <th>BMI</th>\n",
       "      <th>DiabetesPedigreeFunction</th>\n",
       "      <th>Age</th>\n",
       "      <th>Outcome</th>\n",
       "    </tr>\n",
       "  </thead>\n",
       "  <tbody>\n",
       "    <tr>\n",
       "      <th>0</th>\n",
       "      <td>6</td>\n",
       "      <td>148</td>\n",
       "      <td>72</td>\n",
       "      <td>35</td>\n",
       "      <td>0</td>\n",
       "      <td>33.6</td>\n",
       "      <td>0.627</td>\n",
       "      <td>50</td>\n",
       "      <td>1</td>\n",
       "    </tr>\n",
       "    <tr>\n",
       "      <th>1</th>\n",
       "      <td>1</td>\n",
       "      <td>85</td>\n",
       "      <td>66</td>\n",
       "      <td>29</td>\n",
       "      <td>0</td>\n",
       "      <td>26.6</td>\n",
       "      <td>0.351</td>\n",
       "      <td>31</td>\n",
       "      <td>0</td>\n",
       "    </tr>\n",
       "    <tr>\n",
       "      <th>2</th>\n",
       "      <td>8</td>\n",
       "      <td>183</td>\n",
       "      <td>64</td>\n",
       "      <td>0</td>\n",
       "      <td>0</td>\n",
       "      <td>23.3</td>\n",
       "      <td>0.672</td>\n",
       "      <td>32</td>\n",
       "      <td>1</td>\n",
       "    </tr>\n",
       "    <tr>\n",
       "      <th>3</th>\n",
       "      <td>1</td>\n",
       "      <td>89</td>\n",
       "      <td>66</td>\n",
       "      <td>23</td>\n",
       "      <td>94</td>\n",
       "      <td>28.1</td>\n",
       "      <td>0.167</td>\n",
       "      <td>21</td>\n",
       "      <td>0</td>\n",
       "    </tr>\n",
       "    <tr>\n",
       "      <th>4</th>\n",
       "      <td>0</td>\n",
       "      <td>137</td>\n",
       "      <td>40</td>\n",
       "      <td>35</td>\n",
       "      <td>168</td>\n",
       "      <td>43.1</td>\n",
       "      <td>2.288</td>\n",
       "      <td>33</td>\n",
       "      <td>1</td>\n",
       "    </tr>\n",
       "  </tbody>\n",
       "</table>\n",
       "</div>"
      ],
      "text/plain": [
       "   Pregnancies  Glucose  BloodPressure  SkinThickness  Insulin   BMI  \\\n",
       "0            6      148             72             35        0  33.6   \n",
       "1            1       85             66             29        0  26.6   \n",
       "2            8      183             64              0        0  23.3   \n",
       "3            1       89             66             23       94  28.1   \n",
       "4            0      137             40             35      168  43.1   \n",
       "\n",
       "   DiabetesPedigreeFunction  Age  Outcome  \n",
       "0                     0.627   50        1  \n",
       "1                     0.351   31        0  \n",
       "2                     0.672   32        1  \n",
       "3                     0.167   21        0  \n",
       "4                     2.288   33        1  "
      ]
     },
     "execution_count": 3,
     "metadata": {},
     "output_type": "execute_result"
    }
   ],
   "source": [
    "import pandas as pd\n",
    "\n",
    "# Load the Pima Indians Diabetes dataset\n",
    "df = pd.read_csv('pima-indians-diabetes.csv')\n",
    "df.head()  # Display first five rows"
   ]
  },
  {
   "cell_type": "markdown",
   "id": "4d74028d",
   "metadata": {},
   "source": [
    "## **Understanding Logistic Regression**"
   ]
  },
  {
   "cell_type": "markdown",
   "id": "4683c08e",
   "metadata": {
    "jp-MarkdownHeadingCollapsed": true
   },
   "source": [
    "\n",
    "Logistic Regression is a statistical model used for binary classification. \n",
    "It predicts the probability of an instance belonging to a particular class using the sigmoid function:\n",
    "\n",
    "$$ P(y=1|X) = \\frac{1}{1+e^{-z}} $$\n",
    "\n",
    "where \n",
    "- $$ z = wX + b $$ (Linear combination of weights and input features)\n",
    "- The model is trained using **Maximum Likelihood Estimation (MLE)** to optimize the weights.\n",
    "- Logistic Regression outputs probabilities and applies a threshold (e.g., 0.5) to classify istances.\n"
   ]
  },
  {
   "cell_type": "markdown",
   "id": "053eb48c",
   "metadata": {},
   "source": [
    "## **Data Preprocessing**\n",
    "Before training the model, check for missing values in the dataset\n",
    "\n"
   ]
  },
  {
   "cell_type": "code",
   "execution_count": 4,
   "id": "f1424e35",
   "metadata": {},
   "outputs": [
    {
     "name": "stdout",
     "output_type": "stream",
     "text": [
      "Missing values per column:\n",
      " Pregnancies                 0\n",
      "Glucose                     0\n",
      "BloodPressure               0\n",
      "SkinThickness               0\n",
      "Insulin                     0\n",
      "BMI                         0\n",
      "DiabetesPedigreeFunction    0\n",
      "Age                         0\n",
      "Outcome                     0\n",
      "dtype: int64\n"
     ]
    }
   ],
   "source": [
    "# Check for missing values\n",
    "print(\"Missing values per column:\\n\", df.isnull().sum())"
   ]
  },
  {
   "cell_type": "markdown",
   "id": "9d5cc730",
   "metadata": {},
   "source": [
    "## **Feature Selection and Model Training**\n",
    "To trainther modele define the features and target variable. Additionall,e standardize the numerical features to improve model performance and split the data into training and testing sets\n"
   ]
  },
  {
   "cell_type": "code",
   "execution_count": 5,
   "id": "add6d038",
   "metadata": {},
   "outputs": [
    {
     "name": "stdout",
     "output_type": "stream",
     "text": [
      "Training set size: (614, 8)\n",
      "Testing set size: (154, 8)\n"
     ]
    }
   ],
   "source": [
    "from sklearn.preprocessing import StandardScaler\n",
    "from sklearn.model_selection import train_test_split\n",
    "\n",
    "# Define features (X) and target variable (y)\n",
    "X = df.iloc[:, :-1]  # All columns except the last one\n",
    "y = df.iloc[:, -1]   # The last column is the target variable\n",
    "\n",
    "# Standardize the feature values\n",
    "scaler = StandardScaler()\n",
    "X_scaled = scaler.fit_transform(X)\n",
    "\n",
    "# Split into training and testing sets\n",
    "X_train, X_test, y_train, y_test = train_test_split(X_scaled, y, test_size=0.2, random_state=42)\n",
    "\n",
    "print(\"Training set size:\", X_train.shape)\n",
    "print(\"Testing set size:\", X_test.shape)"
   ]
  },
  {
   "cell_type": "markdown",
   "id": "982f188b",
   "metadata": {},
   "source": [
    "## **Training Logistic Regression Model**\n",
    "Ttraiingn a **Logistic Regression model** using the training dataset. Logistic Regression works by estimating the probability of a given input belonging to a specific class using the **sigmoid function**. The model is trained using **Maximum Likelihood Estimation (MLE)** to find the best parameters.\n",
    "\n",
    "### **Key Hyperparameters in Logistic Regression**\n",
    "- `max_iter=1000`: Increases the number of iterations for optimization to ensure convergence.\n",
    "- `penalty='l2'`: Default L2 regularization (Ridge) helps prevent overfitting.\n",
    "- `solver='liblinear'` or `'saga'`: Determines the optimization algorithm (use `'liblinear'` for small datasets, `'saga'` for larger ones).\n",
    "- `C=1.0`: Inverse of regularization strength (higher values reduce regulariztion).\n"
   ]
  },
  {
   "cell_type": "code",
   "execution_count": 6,
   "id": "22b28195",
   "metadata": {},
   "outputs": [
    {
     "name": "stdout",
     "output_type": "stream",
     "text": [
      "Model training complete.\n"
     ]
    }
   ],
   "source": [
    "from sklearn.linear_model import LogisticRegression\n",
    "\n",
    "# Initialize and train Logistic Regression model\n",
    "model = LogisticRegression(max_iter=1000, penalty='l2', solver='liblinear')  # Adding solver and penalty for clarity\n",
    "model.fit(X_train, y_train)\n",
    "\n",
    "print(\"Model training complete.\")"
   ]
  },
  {
   "cell_type": "markdown",
   "id": "1af49886",
   "metadata": {},
   "source": [
    "## **Model Evaluation**\n",
    "After training the Logistic Regression modele evaluainge its performance using:\n",
    "- **Classification Report:** Provides precision, recall, F1-score, and support for each class.\n",
    "- **Confusion Matrix:** Shows how well the model correctly classifies each category.\n",
    "- **Accuracy Score:** Measures overall model accuracy.\n",
    "- **ROC-AUC Score:** Evaluates model performance based on the area under the ROC crve.\n"
   ]
  },
  {
   "cell_type": "code",
   "execution_count": 7,
   "id": "760d6702",
   "metadata": {},
   "outputs": [
    {
     "name": "stdout",
     "output_type": "stream",
     "text": [
      "Classification Report:\n",
      "               precision    recall  f1-score   support\n",
      "\n",
      "           0       0.81      0.80      0.81        99\n",
      "           1       0.65      0.67      0.66        55\n",
      "\n",
      "    accuracy                           0.75       154\n",
      "   macro avg       0.73      0.74      0.73       154\n",
      "weighted avg       0.76      0.75      0.75       154\n",
      "\n",
      "Confusion Matrix:\n",
      " [[79 20]\n",
      " [18 37]]\n",
      "Accuracy Score: 0.7532467532467533\n",
      "ROC-AUC Score: 0.8145087235996327\n"
     ]
    }
   ],
   "source": [
    "from sklearn.metrics import classification_report, confusion_matrix, accuracy_score, roc_auc_score\n",
    "\n",
    "# Make predictions\n",
    "y_pred = model.predict(X_test)\n",
    "\n",
    "# Print evaluation metrics\n",
    "print(\"Classification Report:\\n\", classification_report(y_test, y_pred))\n",
    "print(\"Confusion Matrix:\\n\", confusion_matrix(y_test, y_pred))\n",
    "print(\"Accuracy Score:\", accuracy_score(y_test, y_pred))\n",
    "\n",
    "# Calculate ROC-AUC Score (for binary classification)\n",
    "y_prob = model.predict_proba(X_test)[:, 1]  # Get probability of positive class\n",
    "roc_auc = roc_auc_score(y_test, y_prob)\n",
    "print(\"ROC-AUC Score:\", roc_auc)"
   ]
  },
  {
   "cell_type": "markdown",
   "id": "211633df",
   "metadata": {},
   "source": [
    "## **Confusion Matrix Visualization**\n",
    "A confusion matrix provides a detailed breakdown of model predictions by showing:\n",
    "- **True Positives (TP)** – Correctly predicted as positive (Diabetes).\n",
    "- **True Negatives (TN)** – Correctly predicted as negative (No Diabetes).\n",
    "- **False Positives (FP)** – Incorrectly predicted as positive (Type I Error).\n",
    "- **False Negatives (FN)** – Incorrectly predicted as negative (Type II Error).\n",
    "\n",
    "A well-balanced confusion matrix suggests a model that correctly classifies instances across both casses.\n"
   ]
  },
  {
   "cell_type": "code",
   "execution_count": 8,
   "id": "b63719e5",
   "metadata": {},
   "outputs": [
    {
     "data": {
      "image/png": "[encoded data removed]",
      "text/plain": [
       "<Figure size 600x400 with 2 Axes>"
      ]
     },
     "metadata": {},
     "output_type": "display_data"
    }
   ],
   "source": [
    "import seaborn as sns\n",
    "import matplotlib.pyplot as plt\n",
    "from sklearn.metrics import confusion_matrix\n",
    "\n",
    "# Generate the confusion matrix\n",
    "cm = confusion_matrix(y_test, y_pred)\n",
    "\n",
    "# Plot the confusion matrix as a heatmap\n",
    "plt.figure(figsize=(6,4))\n",
    "sns.heatmap(cm, annot=True, fmt='d', cmap='Blues', xticklabels=['No Diabetes', 'Diabetes'], yticklabels=['No Diabetes', 'Diabetes'])\n",
    "\n",
    "# Labels and title\n",
    "plt.xlabel('Predicted Label')\n",
    "plt.ylabel('Actual Label')\n",
    "plt.title('Confusion Matrix')\n",
    "\n",
    "# Show plot\n",
    "plt.show()"
   ]
  },
  {
   "cell_type": "markdown",
   "id": "5c043943",
   "metadata": {},
   "source": [
    "## **Receiver Operating Characteristic (ROC) Curve**\n",
    "The **ROC Curve** is a graphical representation of a classifier's performance across different threshold values. It plots:\n",
    "- **True Positive Rate (TPR) = Sensitivity (Recall)**\n",
    "- **False Positive Rate (FPR) = 1 - Specificity**\n",
    "\n",
    "### **Key Insights:**\n",
    "- A **perfect classifier** has an area under the curve (**AUC**) of **1.0**.\n",
    "- A **random classifier** (no predictive power) has an **AUC of 0.5** (diagonal line).\n",
    "- A model with **higher AUC** is generally better at distinguishing between lasses.\n"
   ]
  },
  {
   "cell_type": "code",
   "execution_count": 9,
   "id": "93bf9e5e",
   "metadata": {},
   "outputs": [
    {
     "data": {
      "image/png": "[encoded data removed]",
      "text/plain": [
       "<Figure size 600x400 with 1 Axes>"
      ]
     },
     "metadata": {},
     "output_type": "display_data"
    }
   ],
   "source": [
    "from sklearn.metrics import roc_curve, auc\n",
    "import matplotlib.pyplot as plt\n",
    "\n",
    "# Compute ROC curve and AUC score\n",
    "y_prob = model.predict_proba(X_test)[:, 1]  # Probabilities for positive class (Diabetes)\n",
    "fpr, tpr, _ = roc_curve(y_test, y_prob)  # Compute False Positive Rate and True Positive Rate\n",
    "roc_auc = auc(fpr, tpr)  # Compute AUC score\n",
    "\n",
    "# Plot ROC curve\n",
    "plt.figure(figsize=(6,4))\n",
    "plt.plot(fpr, tpr, label=f'ROC Curve (AUC = {roc_auc:.2f})', linewidth=2)\n",
    "plt.plot([0, 1], [0, 1], linestyle='--', color='gray', linewidth=1)  # Diagonal reference line\n",
    "\n",
    "# Labels and title\n",
    "plt.xlabel('False Positive Rate (FPR)')\n",
    "plt.ylabel('True Positive Rate (TPR)')\n",
    "plt.title('Receiver Operating Characteristic (ROC) Curve')\n",
    "plt.legend(loc='lower right')\n",
    "\n",
    "# Show plot\n",
    "plt.show()"
   ]
  },
  {
   "cell_type": "markdown",
   "id": "028fa27d",
   "metadata": {},
   "source": [
    "## **Comparing Logistic Regression with Other Models**\n",
    "To evaluate the effectiveness of **Logistic Regression**, we compare it with:\n",
    "- **Decision Tree Classifier** – A rule-based model that splits data based on conditions.\n",
    "- **Random Forest Classifier** – An ensemble model that aggregates multiple Decision Trees.\n",
    "\n",
    "### **Key Differences:**\n",
    "| Model               | Strengths                                              | Weaknesses                                            |\n",
    "|--------------------|------------------------------------------------------|------------------------------------------------------|\n",
    "| **Logistic Regression** | Interpretable, works well for linear relationships | Struggles with non-linear data                     |\n",
    "| **Decision Tree**   | Handles non-linearity, simple to interpret            | Prone to overfitting (deep trees)                  |\n",
    "| **Random Forest**   | Reduces overfitting, handles large feature spaces     | Can be computationally expensive                   |\n",
    "\n",
    "We evaluate these models using classification reports and accuacy scores.\n",
    "acy scores.\n",
    "acy scores.\n"
   ]
  },
  {
   "cell_type": "code",
   "execution_count": 10,
   "id": "8ec98ec8",
   "metadata": {},
   "outputs": [
    {
     "name": "stdout",
     "output_type": "stream",
     "text": [
      "Decision Tree Classification Report:\n",
      "               precision    recall  f1-score   support\n",
      "\n",
      "           0       0.83      0.76      0.79        99\n",
      "           1       0.62      0.73      0.67        55\n",
      "\n",
      "    accuracy                           0.75       154\n",
      "   macro avg       0.73      0.74      0.73       154\n",
      "weighted avg       0.76      0.75      0.75       154\n",
      "\n",
      "Random Forest Classification Report:\n",
      "               precision    recall  f1-score   support\n",
      "\n",
      "           0       0.79      0.79      0.79        99\n",
      "           1       0.62      0.62      0.62        55\n",
      "\n",
      "    accuracy                           0.73       154\n",
      "   macro avg       0.70      0.70      0.70       154\n",
      "weighted avg       0.73      0.73      0.73       154\n",
      "\n",
      "Logistic Regression Accuracy: 0.7532467532467533\n",
      "Decision Tree Accuracy: 0.7467532467532467\n",
      "Random Forest Accuracy: 0.7272727272727273\n"
     ]
    }
   ],
   "source": [
    "from sklearn.tree import DecisionTreeClassifier\n",
    "from sklearn.ensemble import RandomForestClassifier\n",
    "from sklearn.metrics import classification_report, accuracy_score\n",
    "\n",
    "# Train Decision Tree model\n",
    "dt_model = DecisionTreeClassifier(random_state=42)\n",
    "dt_model.fit(X_train, y_train)\n",
    "dt_pred = dt_model.predict(X_test)\n",
    "\n",
    "# Train Random Forest model\n",
    "rf_model = RandomForestClassifier(n_estimators=100, random_state=42)\n",
    "rf_model.fit(X_train, y_train)\n",
    "rf_pred = rf_model.predict(X_test)\n",
    "\n",
    "# Print performance comparison\n",
    "print(\"Decision Tree Classification Report:\\n\", classification_report(y_test, dt_pred))\n",
    "print(\"Random Forest Classification Report:\\n\", classification_report(y_test, rf_pred))\n",
    "\n",
    "# Print Accuracy Scores\n",
    "print(\"Logistic Regression Accuracy:\", accuracy_score(y_test, y_pred))\n",
    "print(\"Decision Tree Accuracy:\", accuracy_score(y_test, dt_pred))\n",
    "print(\"Random Forest Accuracy:\", accuracy_score(y_test, rf_pred))"
   ]
  },
  {
   "cell_type": "markdown",
   "id": "bae1b45d",
   "metadata": {},
   "source": [
    "## **Conclusion**"
   ]
  },
  {
   "cell_type": "markdown",
   "id": "f01cb20f",
   "metadata": {},
   "source": [
    "This notebook enhances the **Logistic Regression lab** by:\n",
    "- **Applying the model to a real-world dataset** (Pima Indians Diabetes dataset) to demonstrate practical usage.\n",
    "- **Visualizing results** using confusion matrices, ROC curves, and performance metrics, providing **intuitive insights into model predictions**.\n",
    "- **Comparing Logistic Regression with Decision Trees and Random Forests** to evaluate how different classification methods perform.\n",
    "- **Clarifying key concepts** such as probability estimation, decision boundaries, and regularization in Logistic Regression.\n",
    "- **Exploring advanced evaluation techniques** beyond accuracy, including precision-recall trade-offs and AUC-ROC analysis.\n",
    "- **Providing hands-on implementation** with structured, executable Python code for seamless experimentation.\n",
    "\n",
    "### **Key Takeaways**\n",
    "- **Logistic Regression** is an effective model for binary classification, particularly when relationships are **linear**.\n",
    "- **Decision Trees** capture **non-linear decision boundaries**, but they can easily **overfit** without proper pruning.\n",
    "- **Random Forests** provide **better generalization** by aggregating multiple trees, often leading to **higher accuracy**.\n",
    "- **Visualizations such as the confusion matrix highlight misclassifications,** helping to diagnose errors in model predictions.\n",
    "- **The ROC curve demonstrates how well each model differentiates between positive and negative cases**, with the AUC score indicating predictive power.\n",
    "- **Evaluation beyond accuracy is crucial**—metrics like precision, recall, and F1-score provide deeper insights into model reliability.\n",
    "\n",
    "### **Visual Insights**\n",
    "- **Confusion Matrix**: Provided a clear view of correct and incorrect predictions, helping to assess class imbalances.\n",
    "- **ROC Curve**: Showed how well the model distinguishes between classes at different threshold levels.\n",
    "- **Feature Scaling Impact**: Improved Logistic Regression’s convergence and performance.\n",
    "- **Model Comparisons**: Highlighted strengths and weaknesses of each classifier, demonstrating why Random Forest often outperforms individual trees.\n",
    "\n",
    "### **Final Thoughts**\n",
    "This enhanced lab **bridges theoretical concepts with practical insights** by combining **model implementation, visualization, and performance evaluation**.  \n",
    "By **integrating real-world data, visual analysis, and comparative modeling,** this notebook provides a **comprehensive learning experience** in classification techniques. 🚀  \n",
    "Future improvements could explore **hyperparameter tuning, feature engineering, and deep learning-based classifiers for more advanced insights.**\n"
   ]
  },
  {
   "cell_type": "markdown",
   "id": "0328d9f7",
   "metadata": {},
   "source": [
    "# REFERENCE\n",
    "[UCI Machine Learning]. (2017). [Pima Indians Diabetes Dataset], [Version 1], https://www.kaggle.com/datasets/uciml/pima-indians-diabetes-database"
   ]
  }
 ],
 "metadata": {
  "kernelspec": {
   "display_name": ".venv",
   "language": "python",
   "name": "python3"
  },
  "language_info": {
   "codemirror_mode": {
    "name": "ipython",
    "version": 3
   },
   "file_extension": ".py",
   "mimetype": "text/x-python",
   "name": "python",
   "nbconvert_exporter": "python",
   "pygments_lexer": "ipython3",
   "version": "3.13.2"
  }
 },
 "nbformat": 4,
 "nbformat_minor": 5
}
